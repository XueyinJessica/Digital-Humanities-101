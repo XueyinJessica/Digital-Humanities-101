{
 "cells": [
  {
   "cell_type": "markdown",
   "metadata": {},
   "source": [
    "# Religion Related or Not: Classify Paragraphs in *Investiture of the Gods* with Bayesian Classifier\n",
    "# 与宗教相关吗？贝叶斯分类器分类封神演义的段落"
   ]
  },
  {
   "cell_type": "markdown",
   "metadata": {},
   "source": [
    "\n",
    "- 1.Get Data\n",
    "- 2.Clean Data\n",
    "- 3.Classify Paragraphs with MultinomialNB\n",
    "\n",
    "\n",
    "- 1.获取：获取数据，封神演绎全书\n",
    "- 2.清理：清理数据，筛选感兴趣的段落\n",
    "- 3.使用贝叶斯分类器，将段落进行分类\n",
    "\n"
   ]
  },
  {
   "cell_type": "markdown",
   "metadata": {},
   "source": [
    "## 1.load package"
   ]
  },
  {
   "cell_type": "code",
   "execution_count": 1,
   "metadata": {
    "ExecuteTime": {
     "end_time": "2019-03-31T21:50:54.842699Z",
     "start_time": "2019-03-31T21:50:54.156894Z"
    }
   },
   "outputs": [],
   "source": [
    "import numpy as np # 矩阵，数组计算\n",
    "\n",
    "from collections import defaultdict\n",
    "from ctext import * # 数据来源，中国哲学书电子化计划\n",
    "from itertools import compress\n",
    "from sklearn.feature_extraction.text import CountVectorizer\n",
    "from sklearn.metrics import *\n",
    "from sklearn.naive_bayes import MultinomialNB"
   ]
  },
  {
   "cell_type": "markdown",
   "metadata": {},
   "source": [
    "## 2.通过ctext包，获取数据\n",
    "- ctext 会限制访问\n",
    "- 设置API KEY得到更高权限\n",
    "- gettextasparagrapharray()"
   ]
  },
  {
   "cell_type": "raw",
   "metadata": {
    "ExecuteTime": {
     "end_time": "2019-01-25T17:55:41.894311Z",
     "start_time": "2019-01-25T17:55:41.630600Z"
    }
   },
   "source": [
    "# This will throw a error, set API KEY before retrive data\n",
    "# 直接允许这段代码会报错，设置api key后再运行\n",
    "paragraphs = gettextasparagrapharray(\"ctp:fengshen-yanyi\") # 没有权限"
   ]
  },
  {
   "cell_type": "code",
   "execution_count": 2,
   "metadata": {
    "ExecuteTime": {
     "end_time": "2019-03-31T21:50:54.849159Z",
     "start_time": "2019-03-31T21:50:54.845109Z"
    }
   },
   "outputs": [],
   "source": [
    "# Set API KEY\n",
    "# 设置API KEY\n",
    "setapikey(\"demo\")\n",
    "setlanguage(\"zh\")"
   ]
  },
  {
   "cell_type": "code",
   "execution_count": 3,
   "metadata": {
    "ExecuteTime": {
     "end_time": "2019-03-31T21:51:00.848548Z",
     "start_time": "2019-03-31T21:50:54.921892Z"
    }
   },
   "outputs": [],
   "source": [
    "# 再次运行相同代码，有权限之后，我们获得封神演义全书\n",
    "paragraphs = gettextasparagrapharray(\"ctp:fengshen-yanyi\")"
   ]
  },
  {
   "cell_type": "code",
   "execution_count": 4,
   "metadata": {
    "ExecuteTime": {
     "end_time": "2019-03-31T21:51:00.864019Z",
     "start_time": "2019-03-31T21:51:00.851577Z"
    }
   },
   "outputs": [
    {
     "data": {
      "text/plain": [
       "1560"
      ]
     },
     "execution_count": 4,
     "metadata": {},
     "output_type": "execute_result"
    }
   ],
   "source": [
    "# Check how many paragraph are there in this book\n",
    "# 段落数\n",
    "len(paragraphs)"
   ]
  },
  {
   "cell_type": "code",
   "execution_count": 5,
   "metadata": {
    "ExecuteTime": {
     "end_time": "2019-03-31T21:51:00.873035Z",
     "start_time": "2019-03-31T21:51:00.866442Z"
    }
   },
   "outputs": [
    {
     "data": {
      "text/plain": [
       "587904"
      ]
     },
     "execution_count": 5,
     "metadata": {},
     "output_type": "execute_result"
    }
   ],
   "source": [
    "# Check how many characters are there in this book\n",
    "# 字数\n",
    "count_word = 0\n",
    "for characters in paragraphs:\n",
    "    count_word += len(characters)\n",
    "count_word"
   ]
  },
  {
   "cell_type": "code",
   "execution_count": 6,
   "metadata": {
    "ExecuteTime": {
     "end_time": "2019-03-31T21:51:00.881005Z",
     "start_time": "2019-03-31T21:51:00.876286Z"
    }
   },
   "outputs": [
    {
     "data": {
      "text/plain": [
       "'古風一首：混沌初分盤古先，太極兩儀四象懸。子天丑地人寅出，避除獸患有巢賢。燧人取火免鮮食，伏羲畫卦陰陽前。神農治世嚐百草，軒轅禮樂婚姻聯。少昊五帝民物阜，禹王治水洪波蠲。承平享國至四百，桀王無道乾坤顛，日縱妹喜荒酒色，成湯造亳洗腥羶，放桀南巢拯暴虐，雲霓如願後蘇全。三十一世傳殷紂，商家脈絡如斷弦：紊亂朝綱絕倫紀，殺妻誅子信讒言，穢污宮闈寵妲己，蠆盆炮烙忠貞冤，鹿臺聚斂萬姓苦，愁聲怨氣應障天，直諫剖心盡焚炙，孕婦刳剔朝涉殲，崇信姦回棄朝政，屏逐師保性何偏，郊社不修宗廟廢，奇技淫巧盡心研，昵此罪人乃罔畏，沉酗肆虐如鸇鳶。西伯朝商囚羑里，微子抱器走風湮。皇天震怒降災毒，若涉大海無淵邊。天下荒荒萬民怨，子牙出世人中仙，終日垂絲釣人主，飛熊入夢獵岐田，共載歸周輔朝政，三分有二日相沿。文考末集大勳沒，武王善述日乾乾。孟津大會八百國，取彼凶殘伐罪愆。甲子昧爽會牧野，前徒倒戈反回旋。若崩厥角齊稽首，血流漂杵脂如泉。戒衣甫著天下定，更於成湯增光妍。牧馬華山示偃武，開我周家八百年。太白旗懸獨夫死，戰亡將士幽魂潛。天挺人賢號尚父，封神壇上列花箋，大小英靈尊位次，商周演義古今傳。'"
      ]
     },
     "execution_count": 6,
     "metadata": {},
     "output_type": "execute_result"
    }
   ],
   "source": [
    "# Check the first paragraph in this book\n",
    "paragraphs[0]"
   ]
  },
  {
   "cell_type": "markdown",
   "metadata": {},
   "source": [
    "## 3. Clean data"
   ]
  },
  {
   "cell_type": "code",
   "execution_count": 7,
   "metadata": {
    "ExecuteTime": {
     "end_time": "2019-03-31T21:51:00.889992Z",
     "start_time": "2019-03-31T21:51:00.885570Z"
    }
   },
   "outputs": [],
   "source": [
    "# Get a list of paragraphs with the characters '教' in it\n",
    "fil = ['教' in e for e in paragraphs]\n",
    "with_jiao = list(compress(paragraphs, fil))"
   ]
  },
  {
   "cell_type": "code",
   "execution_count": 8,
   "metadata": {
    "ExecuteTime": {
     "end_time": "2019-03-31T21:51:00.896279Z",
     "start_time": "2019-03-31T21:51:00.892125Z"
    }
   },
   "outputs": [
    {
     "data": {
      "text/plain": [
       "246"
      ]
     },
     "execution_count": 8,
     "metadata": {},
     "output_type": "execute_result"
    }
   ],
   "source": [
    "#There are 246 paragraphs with the character '教' in it\n",
    "len(with_jiao)"
   ]
  },
  {
   "cell_type": "code",
   "execution_count": 9,
   "metadata": {
    "ExecuteTime": {
     "end_time": "2019-03-31T21:51:00.904217Z",
     "start_time": "2019-03-31T21:51:00.898217Z"
    }
   },
   "outputs": [
    {
     "data": {
      "text/plain": [
       "'成湯乃黃帝之後也，姓子氏。初，帝嚳次妃簡狄祈於高禖，有玄鳥之祥，遂生契。契事唐虞為司徙，教民有功，封於商。傳十三世生太乙，是為成湯；聞伊尹耕於有莘之野，而樂堯舜之道，是箇大賢，即時以幣帛，三遣使往聘之，而不敢用，進之於天子。桀王無道，信讒逐賢，而不能用，復歸之於湯。後桀王日事荒淫，殺直臣關龍逢，眾庶莫敢直言；湯使人哭之。桀王怒，囚湯於夏台。後湯得釋而歸國。出郊，見人張網四面而祝之曰：「從天墜者，從地出者，從四方來者，皆罹吾網！」湯解其三面，止置一面，更祝曰：「欲左者左，欲右者右，欲高者高，欲下者下；不用命者乃入吾網！」漢南聞之曰：「湯德至矣！」歸之者四十餘國。桀惡日暴，民不聊生。伊尹乃相湯伐桀，放桀於南巢。諸侯大會，湯退而就諸侯之位。諸侯皆推湯為天子。於是湯始即位，都於亳。元年乙未，湯在位，除桀虐政，順民所喜，遠近歸之。因桀無道，大旱七年，成湯祈禱桑林，天降大雨。又以莊山之金鑄幣，救民之命。作樂「大濩」，濩者護也，言湯寬仁大德，能救護生民也。在位十三年而崩，壽百歲，享國六百四十年，傳至商受而止：成湯\\u3000\\u3000太甲\\u3000\\u3000沃丁\\u3000\\u3000太庚\\u3000\\u3000小甲\\u3000\\u3000雍己太戊\\u3000\\u3000仲丁\\u3000\\u3000外壬\\u3000\\u3000河亶甲\\u3000祖乙\\u3000\\u3000祖辛沃甲\\u3000\\u3000祖丁\\u3000\\u3000南庚\\u3000\\u3000陽甲\\u3000\\u3000盤庚\\u3000\\u3000小辛小乙\\u3000\\u3000武丁\\u3000\\u3000祖庚\\u3000\\u3000祖甲\\u3000\\u3000廩辛\\u3000\\u3000庚丁武乙\\u3000\\u3000太丁\\u3000\\u3000帝乙\\u3000\\u3000紂王'"
      ]
     },
     "execution_count": 9,
     "metadata": {},
     "output_type": "execute_result"
    }
   ],
   "source": [
    "#Check the first paragraph\n",
    "with_jiao[0]"
   ]
  },
  {
   "cell_type": "code",
   "execution_count": 10,
   "metadata": {
    "ExecuteTime": {
     "end_time": "2019-03-31T21:51:00.914014Z",
     "start_time": "2019-03-31T21:51:00.907319Z"
    }
   },
   "outputs": [],
   "source": [
    "# we need to strip punctuation\n",
    "def clean_separate_string(paragraph):\n",
    "    b = \"『 』]，。：；？！─「　」、[\"\n",
    "    for char in b:\n",
    "        paragraph = paragraph.replace(char,\"\")\n",
    "    clean_paragraph = ''\n",
    "    for e in paragraph:\n",
    "        clean_paragraph = clean_paragraph + e + ' '\n",
    "    return clean_paragraph"
   ]
  },
  {
   "cell_type": "code",
   "execution_count": 11,
   "metadata": {
    "ExecuteTime": {
     "end_time": "2019-03-31T21:51:00.924864Z",
     "start_time": "2019-03-31T21:51:00.917807Z"
    }
   },
   "outputs": [
    {
     "data": {
      "text/plain": [
       "'成 湯 乃 黃 帝 之 後 也 姓 子 氏 初 帝 嚳 次 妃 簡 狄 祈 於 高 禖 有 玄 鳥 之 祥 遂 生 契 契 事 唐 虞 為 司 徙 教 民 有 功 封 於 商 傳 十 三 世 生 太 乙 是 為 成 湯 聞 伊 尹 耕 於 有 莘 之 野 而 樂 堯 舜 之 道 是 箇 大 賢 即 時 以 幣 帛 三 遣 使 往 聘 之 而 不 敢 用 進 之 於 天 子 桀 王 無 道 信 讒 逐 賢 而 不 能 用 復 歸 之 於 湯 後 桀 王 日 事 荒 淫 殺 直 臣 關 龍 逢 眾 庶 莫 敢 直 言 湯 使 人 哭 之 桀 王 怒 囚 湯 於 夏 台 後 湯 得 釋 而 歸 國 出 郊 見 人 張 網 四 面 而 祝 之 曰 從 天 墜 者 從 地 出 者 從 四 方 來 者 皆 罹 吾 網 湯 解 其 三 面 止 置 一 面 更 祝 曰 欲 左 者 左 欲 右 者 右 欲 高 者 高 欲 下 者 下 不 用 命 者 乃 入 吾 網 漢 南 聞 之 曰 湯 德 至 矣 歸 之 者 四 十 餘 國 桀 惡 日 暴 民 不 聊 生 伊 尹 乃 相 湯 伐 桀 放 桀 於 南 巢 諸 侯 大 會 湯 退 而 就 諸 侯 之 位 諸 侯 皆 推 湯 為 天 子 於 是 湯 始 即 位 都 於 亳 元 年 乙 未 湯 在 位 除 桀 虐 政 順 民 所 喜 遠 近 歸 之 因 桀 無 道 大 旱 七 年 成 湯 祈 禱 桑 林 天 降 大 雨 又 以 莊 山 之 金 鑄 幣 救 民 之 命 作 樂 大 濩 濩 者 護 也 言 湯 寬 仁 大 德 能 救 護 生 民 也 在 位 十 三 年 而 崩 壽 百 歲 享 國 六 百 四 十 年 傳 至 商 受 而 止 成 湯 太 甲 沃 丁 太 庚 小 甲 雍 己 太 戊 仲 丁 外 壬 河 亶 甲 祖 乙 祖 辛 沃 甲 祖 丁 南 庚 陽 甲 盤 庚 小 辛 小 乙 武 丁 祖 庚 祖 甲 廩 辛 庚 丁 武 乙 太 丁 帝 乙 紂 王 '"
      ]
     },
     "execution_count": 11,
     "metadata": {},
     "output_type": "execute_result"
    }
   ],
   "source": [
    "clean_separate_string(with_jiao[0])"
   ]
  },
  {
   "cell_type": "code",
   "execution_count": 12,
   "metadata": {
    "ExecuteTime": {
     "end_time": "2019-03-31T21:51:00.936964Z",
     "start_time": "2019-03-31T21:51:00.928967Z"
    }
   },
   "outputs": [
    {
     "name": "stdout",
     "output_type": "stream",
     "text": [
      "1\n",
      "成湯乃黃帝之後也，姓子氏。初，帝嚳次妃簡狄祈於高禖，有玄鳥之祥，遂生契。契事唐虞為司徙，——————教——————民有功，封於商。傳十三世生太乙，是為成湯；聞伊尹耕於有莘之野，而樂堯舜之道，是箇大賢，即時以幣帛，三遣使往聘之，而不敢用，進之於天子。桀王無道，信讒逐賢，而不能用，復歸之於湯。後桀王日事荒淫，殺直臣關龍逢，眾庶莫敢直言；湯使人哭之。桀王怒，囚湯於夏台。後湯得釋而歸國。出郊，見人張網四面而祝之曰：「從天墜者，從地出者，從四方來者，皆罹吾網！」湯解其三面，止置一面，更祝曰：「欲左者左，欲右者右，欲高者高，欲下者下；不用命者乃入吾網！」漢南聞之曰：「湯德至矣！」歸之者四十餘國。桀惡日暴，民不聊生。伊尹乃相湯伐桀，放桀於南巢。諸侯大會，湯退而就諸侯之位。諸侯皆推湯為天子。於是湯始即位，都於亳。元年乙未，湯在位，除桀虐政，順民所喜，遠近歸之。因桀無道，大旱七年，成湯祈禱桑林，天降大雨。又以莊山之金鑄幣，救民之命。作樂「大濩」，濩者護也，言湯寬仁大德，能救護生民也。在位十三年而崩，壽百歲，享國六百四十年，傳至商受而止：成湯　　太甲　　沃丁　　太庚　　小甲　　雍己太戊　　仲丁　　外壬　　河亶甲　祖乙　　祖辛沃甲　　祖丁　　南庚　　陽甲　　盤庚　　小辛小乙　　武丁　　祖庚　　祖甲　　廩辛　　庚丁武乙　　太丁　　帝乙　　紂王\n",
      "2\n",
      "話說聖旨一下，迅如峰火，即催逼蘇護出城，不容停止。那蘇護辭朝回至驛亭，眾家將接見慰問：「聖上召將軍進朝，有何商議？」蘇護大怒，罵曰：「無道昏君，不思量祖宗德業，寵信讒臣諂媚之言，欲選吾女進宮為妃。此必是費仲、尤渾以酒色迷惑君心，欲專朝政。我聽旨不覺直言諫諍；昏君道我忤旨，拿送法司。二賊子又奏昏君，赦我歸國，諒我感昏君不殺之恩，必將吾女送進朝歌，以遂二賊奸計。我想聞太師遠徵，二賊弄權，眼見昏君必荒淫酒色，紊亂朝政，天下荒荒，黎民倒懸，可憐成湯社稷化為烏有。我自思：若不將此女進貢，昏君必興問罪之師；若要送此女進宮，以後昏君失德，使天下人恥笑我不智。諸將必有良策——————教——————我。」眾將聞言，齊曰：「吾聞『君不正則臣投外國』，今主上輕賢重色，眼見昏亂，不若反出朝歌，自守一國，上可以保宗社，下可保一家。」此時蘇護正在盛怒之下，一聞此言，下覺性起，竟不思維，便曰：「大丈夫不可做不明白事。」叫左右：「取文房四寶來，題詩在午門牆上，以表我永不朝商之意。」詩曰：「君壞臣綱，有敗五常。冀州蘇護，永不朝商！」\n"
     ]
    }
   ],
   "source": [
    "# Let's look at the first 2 paragraphs\n",
    "for i in range(2):\n",
    "    print(i+1)\n",
    "    printstring = with_jiao[i].replace(\"教\", \"——————教——————\") \n",
    "    print(printstring)"
   ]
  },
  {
   "cell_type": "code",
   "execution_count": 13,
   "metadata": {
    "ExecuteTime": {
     "end_time": "2019-03-31T21:51:00.976727Z",
     "start_time": "2019-03-31T21:51:00.940654Z"
    }
   },
   "outputs": [],
   "source": [
    "sepa_jiao = [clean_separate_string(e) for e in with_jiao]"
   ]
  },
  {
   "cell_type": "markdown",
   "metadata": {},
   "source": [
    "## 4.Classify Paragraphs with CountVectorizer and MultinomialNB"
   ]
  },
  {
   "cell_type": "code",
   "execution_count": 14,
   "metadata": {
    "ExecuteTime": {
     "end_time": "2019-03-31T21:51:00.981549Z",
     "start_time": "2019-03-31T21:51:00.978387Z"
    }
   },
   "outputs": [],
   "source": [
    "test_data = sepa_jiao[0:30]\n",
    "train_data = sepa_jiao[30:90]"
   ]
  },
  {
   "cell_type": "code",
   "execution_count": 15,
   "metadata": {
    "ExecuteTime": {
     "end_time": "2019-03-31T21:51:01.024005Z",
     "start_time": "2019-03-31T21:51:00.983915Z"
    }
   },
   "outputs": [],
   "source": [
    "vectorizer = CountVectorizer(token_pattern='\\\\b\\\\w+\\\\b')\n",
    "train_features = vectorizer.fit_transform(train_data)\n",
    "test_features = vectorizer.transform(test_data)"
   ]
  },
  {
   "cell_type": "code",
   "execution_count": 16,
   "metadata": {
    "ExecuteTime": {
     "end_time": "2019-03-31T21:51:01.036502Z",
     "start_time": "2019-03-31T21:51:01.026292Z"
    }
   },
   "outputs": [],
   "source": [
    "#hand label 30 test instance and 60 training instance\n",
    "test_target = [0,0,0,0,1,1,0,0,0,0,0,0,0,0,0,1,0,0,0,0,1,0,0,0,1,1,1,0,1,0]\n",
    "train_target= [0,0,0,0,0,0,0,0,0,0,0,0,0,0,0,0,0,0,0,0,0,0,0,1,0,1,1,0,1,1,1,1,1,1,1,1,0,0,1,1,1,1,1,1,1,1,1,1,1,1,1,1,1,1,1,1,1,1,1,1]"
   ]
  },
  {
   "cell_type": "code",
   "execution_count": 17,
   "metadata": {
    "ExecuteTime": {
     "end_time": "2019-03-31T21:51:01.048737Z",
     "start_time": "2019-03-31T21:51:01.038989Z"
    }
   },
   "outputs": [
    {
     "name": "stdout",
     "output_type": "stream",
     "text": [
      "0.9333333333333333\n",
      "0.875\n",
      "0.875\n"
     ]
    }
   ],
   "source": [
    "mnb = MultinomialNB()\n",
    "mnb.fit(train_features, train_target)\n",
    "predicted = mnb.predict(test_features)\n",
    "print(accuracy_score(test_target,predicted))\n",
    "print(precision_score(test_target,predicted))\n",
    "print(recall_score(test_target,predicted))"
   ]
  },
  {
   "cell_type": "code",
   "execution_count": 18,
   "metadata": {
    "ExecuteTime": {
     "end_time": "2019-03-31T21:51:01.059838Z",
     "start_time": "2019-03-31T21:51:01.050945Z"
    }
   },
   "outputs": [
    {
     "data": {
      "text/plain": [
       "array([0, 0, 0, 0, 1, 0, 0, 0, 0, 0, 0, 0, 0, 0, 0, 1, 0, 0, 0, 0, 1, 0,\n",
       "       0, 0, 1, 1, 1, 1, 1, 0])"
      ]
     },
     "execution_count": 18,
     "metadata": {},
     "output_type": "execute_result"
    }
   ],
   "source": [
    "predicted"
   ]
  },
  {
   "cell_type": "code",
   "execution_count": 19,
   "metadata": {
    "ExecuteTime": {
     "end_time": "2019-03-31T21:51:01.070408Z",
     "start_time": "2019-03-31T21:51:01.062130Z"
    }
   },
   "outputs": [
    {
     "data": {
      "text/plain": [
       "array([ 0,  0,  0,  0,  0,  1,  0,  0,  0,  0,  0,  0,  0,  0,  0,  0,  0,\n",
       "        0,  0,  0,  0,  0,  0,  0,  0,  0,  0, -1,  0,  0])"
      ]
     },
     "execution_count": 19,
     "metadata": {},
     "output_type": "execute_result"
    }
   ],
   "source": [
    "np.array(test_target) - predicted"
   ]
  },
  {
   "cell_type": "code",
   "execution_count": 20,
   "metadata": {
    "ExecuteTime": {
     "end_time": "2019-03-31T21:51:01.084216Z",
     "start_time": "2019-03-31T21:51:01.077168Z"
    }
   },
   "outputs": [
    {
     "data": {
      "text/plain": [
       "'魔禮青等聽罷封號，叩首謝恩，出壇去了。子牙又命柏鑑：「引鄭倫等上壇受封。」不一時，清福神用旛引鄭倫等至臺下，跪聽宣讀敕命。子牙曰：「今奉太上元始敕命：爾鄭倫棄紂歸周，方慶良臣之得主，督糧盡粹，深勤跋涉之劬勞。未膺一命之榮，反罹陽九之厄。爾陳奇阻弔民伐之師，雖違天命；藎忠節于國，實有可嘉。總歸劫運，無用深嗟。茲特即爾等腹內之奇，加之位職。敕封爾等鎮守西釋山門、宣布——————教——————化、保護法寶、為哼哈二將之神。爾其恪修厥職，永欽成命。」鄭倫與陳奇聽罷封號，叩首謝恩，出壇去了。子牙又令柏鑑：「引余化龍父子上壇受封。」不一時，只見清福神用旛引余化龍等至壇下，跪聽宣讀敕命。子牙曰：「今奉太上元始敕命：爾余化龍父子，拒守孤城，深切忠貞，一門死難，永堪華袞之封。特賜爾之新綸，當克襄乎上理；乃敕封爾掌人間之時症，主生死之修短，秉陰陽之順逆，立造化之元神，為主痘碧霞元君之神；率領五方痘神，任爾施行。仍敕封爾元配金氏為衛房聖母元君；同承新命，永修厥職，汝其欽哉！'"
      ]
     },
     "execution_count": 20,
     "metadata": {},
     "output_type": "execute_result"
    }
   ],
   "source": [
    "# 倒数第三个人工标记非宗教，模型判断是宗教\n",
    "# 查看后可以认为是人工加标签时误判了，模型是对的\n",
    "with_jiao[-3].replace(\"教\", \"——————教——————\") "
   ]
  },
  {
   "cell_type": "markdown",
   "metadata": {},
   "source": [
    "## Bonus: Predict all paragraphs in *Investiture of the Gods*"
   ]
  },
  {
   "cell_type": "code",
   "execution_count": 21,
   "metadata": {
    "ExecuteTime": {
     "end_time": "2019-03-31T21:51:01.276866Z",
     "start_time": "2019-03-31T21:51:01.087104Z"
    }
   },
   "outputs": [],
   "source": [
    "clean_all_paragraphs = [clean_separate_string(paragraph) for paragraph in paragraphs]"
   ]
  },
  {
   "cell_type": "code",
   "execution_count": 22,
   "metadata": {
    "ExecuteTime": {
     "end_time": "2019-03-31T21:51:02.150630Z",
     "start_time": "2019-03-31T21:51:01.828482Z"
    }
   },
   "outputs": [],
   "source": [
    "all_features = vectorizer.transform(clean_all_paragraphs)"
   ]
  },
  {
   "cell_type": "code",
   "execution_count": 23,
   "metadata": {
    "ExecuteTime": {
     "end_time": "2019-03-31T21:51:02.441228Z",
     "start_time": "2019-03-31T21:51:02.434294Z"
    }
   },
   "outputs": [],
   "source": [
    "predicted_all_book = mnb.predict(all_features)"
   ]
  },
  {
   "cell_type": "code",
   "execution_count": 24,
   "metadata": {
    "ExecuteTime": {
     "end_time": "2019-03-31T21:51:02.950409Z",
     "start_time": "2019-03-31T21:51:02.931279Z"
    }
   },
   "outputs": [
    {
     "data": {
      "text/plain": [
       "array(['卻說二位殿下殷郊、殷洪來參謁父王──那殷郊後來是「封神榜」上「值年太歲」；殷洪是「五穀神」：皆有名神將。正行禮間，頂上兩道紅光沖天。娘娘正行時，被此氣擋住雲路；因望下一看，知紂王尚有二十八年氣運，不可造次，暫回行宮，心中不悅。喚彩雲童兒把後宮中金葫蘆取來，放在丹墀之下；揭起蘆蓋，用手一指。葫蘆中有一道白光，其大如線，高四五丈有餘。白光之上，懸出一首旛來，光分五彩，瑞映千條，名曰「招妖旛」。不一時，悲風颯颯，慘霧迷漫，陰雲四合，風過數陣，天下群妖俱到行宮聽候法旨。娘娘吩咐彩雲：「著各處妖魔且退；只留軒轅墳中三妖伺候。」三妖進宮參謁，口稱：「娘娘聖壽無疆！」這三妖一個是千年狐狸精，一個是九頭雉雞精，一個是玉石琵琶精，俯伏丹墀。娘娘曰：「三妖聽吾密旨：成湯望氣黯然，當失天下；鳳鳴岐山，西周已生聖主。天意已定，氣數使然。你三妖可隱其妖形，托身宮院，惑亂君心；俟武王伐紂，以助成功，不可殘害眾生。事成之後，使你等亦成正果。」娘娘吩咐已畢，三妖叩頭謝恩，化清風而去。正是：狐狸聽旨施妖術，斷送成湯六百年。有詩為證，詩曰：三月中旬駕進香，吟詩一首起飛殃。只知把筆施才學，不曉今番社稷亡。',\n",
       "       '按下女媧娘娘吩咐三妖，不題。',\n",
       "       '單言蘇護，一騎馬，一條槍，直殺入陣來，捉拿崇侯虎。左右營門，喊聲振地。崇侯虎正在夢中聞見殺聲，披袍而起，上馬提刀，衝出帳來。只見燈光影裡，看蘇護金盔金甲，大紅袍，玉束帶，青驄馬，火龍槍，大叫曰：「侯虎休走！速下馬受縛！」拈手中槍劈心刺來。崇侯虎落慌，將手中刀對面來迎，兩馬交鋒。正戰時，只見這崇侯虎長子應彪帶領金葵、黃元濟殺將來助戰。崇營左糧道門趙丙殺來，右糧道門陳季貞殺來。兩家混戰，夤夜交兵。怎見得：徵雲籠地戶，殺氣鎖天關。天昏地暗排兵，月下星前布陣。四下裡齊舉火把，八方處亂掌燈球。那營裡數員戰將廝殺；這營中千匹戰馬如龍。燈影戰馬，火映徵夫。燈影戰馬，千條烈焰照貔貅；火映徵夫，萬道紅霞籠懈豸。開弓射箭，星前月下吐寒光；轉背掄刀，燈裡火中生燦爛。鳴金小校，懨懨二目竟難睜；擂鼓兒郎，漸漸雙手不能舉。刀來槍架，馬蹄下人頭亂滾；劍去戟迎，頭盔上血水淋灕。錘鞭並舉，燈前小校盡傾生；斧鐧傷人，目下兒郎都喪命。喊天振地自相殘，哭泣蒼天連叫苦。只殺得滿營炮響衝霄漢，星月無光鬥府迷。'],\n",
       "      dtype='<U2096')"
      ]
     },
     "execution_count": 24,
     "metadata": {},
     "output_type": "execute_result"
    }
   ],
   "source": [
    "# Now you can have religion related paragraphs\n",
    "religion_related = np.array(paragraphs)[predicted_all_book.astype(bool)]\n",
    "# Show the first 3 paragraphs\n",
    "religion_related[:3]"
   ]
  },
  {
   "cell_type": "code",
   "execution_count": 25,
   "metadata": {
    "ExecuteTime": {
     "end_time": "2019-03-31T21:51:03.689713Z",
     "start_time": "2019-03-31T21:51:03.684483Z"
    }
   },
   "outputs": [
    {
     "data": {
      "text/plain": [
       "0.4423076923076923"
      ]
     },
     "execution_count": 25,
     "metadata": {},
     "output_type": "execute_result"
    }
   ],
   "source": [
    "sum(predicted_all_book)/len(predicted_all_book)"
   ]
  },
  {
   "cell_type": "markdown",
   "metadata": {},
   "source": [
    "## Appendix: CountVectorizer"
   ]
  },
  {
   "cell_type": "code",
   "execution_count": 26,
   "metadata": {
    "ExecuteTime": {
     "end_time": "2019-03-31T21:51:04.826360Z",
     "start_time": "2019-03-31T21:51:04.820436Z"
    }
   },
   "outputs": [
    {
     "data": {
      "text/plain": [
       "array([[ 1,  6,  1, ...,  0,  0,  1],\n",
       "       [ 4,  0,  0, ...,  0,  0,  0],\n",
       "       [ 2,  0,  0, ...,  0,  0,  0],\n",
       "       ...,\n",
       "       [29,  0,  0, ...,  1,  0,  1],\n",
       "       [ 0,  0,  0, ...,  0,  0,  0],\n",
       "       [ 6,  0,  0, ...,  1,  0,  0]])"
      ]
     },
     "execution_count": 26,
     "metadata": {},
     "output_type": "execute_result"
    }
   ],
   "source": [
    "test_features = test_features.toarray()\n",
    "test_features"
   ]
  },
  {
   "cell_type": "code",
   "execution_count": 27,
   "metadata": {
    "ExecuteTime": {
     "end_time": "2019-03-31T21:51:07.134674Z",
     "start_time": "2019-03-31T21:51:07.129906Z"
    }
   },
   "outputs": [],
   "source": [
    "corpus = [\n",
    "    '我 爱 数 字 人 文',\n",
    "    '我 很 爱 很 爱 数 字 人 文',\n",
    "    '这 个 例 子 有 点 难',\n",
    "    '但 的 确 很 有 用 啊']"
   ]
  },
  {
   "cell_type": "code",
   "execution_count": 28,
   "metadata": {
    "ExecuteTime": {
     "end_time": "2019-03-31T21:51:07.885946Z",
     "start_time": "2019-03-31T21:51:07.880401Z"
    }
   },
   "outputs": [],
   "source": [
    "vectorizer = CountVectorizer(token_pattern='\\\\b\\\\w+\\\\b')\n",
    "X = vectorizer.fit_transform(corpus)"
   ]
  },
  {
   "cell_type": "code",
   "execution_count": 29,
   "metadata": {
    "ExecuteTime": {
     "end_time": "2019-03-31T21:51:08.289628Z",
     "start_time": "2019-03-31T21:51:08.286492Z"
    }
   },
   "outputs": [
    {
     "name": "stdout",
     "output_type": "stream",
     "text": [
      "['个', '人', '但', '例', '啊', '子', '字', '很', '我', '数', '文', '有', '点', '爱', '用', '的', '确', '这', '难']\n"
     ]
    }
   ],
   "source": [
    "print(vectorizer.get_feature_names())"
   ]
  },
  {
   "cell_type": "code",
   "execution_count": 30,
   "metadata": {
    "ExecuteTime": {
     "end_time": "2019-03-31T21:51:08.873967Z",
     "start_time": "2019-03-31T21:51:08.869767Z"
    }
   },
   "outputs": [
    {
     "data": {
      "text/plain": [
       "array([[0, 1, 0, 0, 0, 0, 1, 0, 1, 1, 1, 0, 0, 1, 0, 0, 0, 0, 0],\n",
       "       [0, 1, 0, 0, 0, 0, 1, 2, 1, 1, 1, 0, 0, 2, 0, 0, 0, 0, 0],\n",
       "       [1, 0, 0, 1, 0, 1, 0, 0, 0, 0, 0, 1, 1, 0, 0, 0, 0, 1, 1],\n",
       "       [0, 0, 1, 0, 1, 0, 0, 1, 0, 0, 0, 1, 0, 0, 1, 1, 1, 0, 0]],\n",
       "      dtype=int64)"
      ]
     },
     "execution_count": 30,
     "metadata": {},
     "output_type": "execute_result"
    }
   ],
   "source": [
    "X.toarray()"
   ]
  }
 ],
 "metadata": {
  "kernelspec": {
   "display_name": "Python 3",
   "language": "python",
   "name": "python3"
  },
  "language_info": {
   "codemirror_mode": {
    "name": "ipython",
    "version": 3
   },
   "file_extension": ".py",
   "mimetype": "text/x-python",
   "name": "python",
   "nbconvert_exporter": "python",
   "pygments_lexer": "ipython3",
   "version": "3.6.7"
  }
 },
 "nbformat": 4,
 "nbformat_minor": 2
}
